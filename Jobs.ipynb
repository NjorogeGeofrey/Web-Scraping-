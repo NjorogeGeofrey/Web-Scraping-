{
 "cells": [
  {
   "cell_type": "code",
   "execution_count": null,
   "id": "041ec1a6",
   "metadata": {},
   "outputs": [],
   "source": [
    "#//*[@id=\"category-2\"]"
   ]
  },
  {
   "cell_type": "code",
   "execution_count": 2,
   "id": "556bd791",
   "metadata": {},
   "outputs": [],
   "source": [
    "from selenium import webdriver\n",
    "from selenium.webdriver.common.by import By\n",
    "from selenium.webdriver.support.ui import WebDriverWait\n",
    "from selenium.webdriver.support import expected_conditions as EC\n",
    "from selenium.common.exceptions import TimeoutException\n",
    "from selenium.webdriver.chrome.service import Service\n",
    "import pandas as pd"
   ]
  },
  {
   "cell_type": "code",
   "execution_count": 13,
   "id": "51b8517b",
   "metadata": {},
   "outputs": [
    {
     "name": "stdout",
     "output_type": "stream",
     "text": [
      "                                                  Job  \\\n",
      "0                                   Founding Engineer   \n",
      "1                      React/Node Fullstack Developer   \n",
      "2                        Fullstack .NET MVC Developer   \n",
      "3                               Senior .NET Developer   \n",
      "4   Junior Software Engineer (Full-time contract, ...   \n",
      "5                    Senior Full-Stack .NET developer   \n",
      "6                      Full-Stack Wordpress Developer   \n",
      "7                    PHP Fullstack Engineer (Laravel)   \n",
      "8                    Senior React.js & Ruby Developer   \n",
      "9                                    Senior Developer   \n",
      "10                     Senior Ruby on Rails Developer   \n",
      "11                    Full Stack Engineer - Full Time   \n",
      "12         Senior Full-stack React & Python Developer   \n",
      "13                      Part Time Full Stack Engineer   \n",
      "14       Web3 developer for a fast growing UK company   \n",
      "15       Senior Shopify Developer (Remote + Flexible)   \n",
      "16  Middle/Senior Software Engineer (Typescript) -...   \n",
      "17                           Full Stack Ruby Engineer   \n",
      "18                Full Stack (React/Python) Developer   \n",
      "19    Senior Rails + Stimulus Dev - The Rails Way! 🛤️   \n",
      "20  FlutterFlow Developer Needed for App Issue Res...   \n",
      "21                        Senior Full Stack Developer   \n",
      "22             Senior Fullstack Engineer (Ruby/Rails)   \n",
      "23  Senior Independent Software Developer ($90-$17...   \n",
      "24                      Part-Time Full Stack Engineer   \n",
      "\n",
      "                                                 Link  \n",
      "0   https://weworkremotely.com/remote-jobs/gc-ai-f...  \n",
      "1   https://weworkremotely.com/remote-jobs/cloudde...  \n",
      "2   https://weworkremotely.com/remote-jobs/cloudde...  \n",
      "3   https://weworkremotely.com/remote-jobs/storyte...  \n",
      "4   https://weworkremotely.com/remote-jobs/miniext...  \n",
      "5   https://weworkremotely.com/remote-jobs/wordwal...  \n",
      "6   https://weworkremotely.com/remote-jobs/bbe-mar...  \n",
      "7   https://weworkremotely.com/remote-jobs/prep-ki...  \n",
      "8   https://weworkremotely.com/remote-jobs/lemon-i...  \n",
      "9   https://weworkremotely.com/remote-jobs/plazas-...  \n",
      "10  https://weworkremotely.com/remote-jobs/proxify...  \n",
      "11  https://weworkremotely.com/remote-jobs/idverse...  \n",
      "12  https://weworkremotely.com/remote-jobs/lemon-i...  \n",
      "13  https://weworkremotely.com/remote-jobs/aiapply...  \n",
      "14  https://weworkremotely.com/remote-jobs/appy-ve...  \n",
      "15  https://weworkremotely.com/remote-jobs/storeta...  \n",
      "16  https://weworkremotely.com/remote-jobs/rollsta...  \n",
      "17  https://weworkremotely.com/remote-jobs/openpla...  \n",
      "18  https://weworkremotely.com/remote-jobs/input-l...  \n",
      "19  https://weworkremotely.com/remote-jobs/nearcut...  \n",
      "20  https://weworkremotely.com/remote-jobs/contra-...  \n",
      "21  https://weworkremotely.com/remote-jobs/niceboa...  \n",
      "22  https://weworkremotely.com/remote-jobs/timezes...  \n",
      "23  https://weworkremotely.com/remote-jobs/a-team-...  \n",
      "24  https://weworkremotely.com/remote-jobs/contra-...  \n"
     ]
    }
   ],
   "source": [
    "# Setup Chrome options\n",
    "driver_option = webdriver.ChromeOptions()\n",
    "driver_option.add_argument(\"--incognito\")\n",
    "\n",
    "#specify the path to the chrome Driver\n",
    "chromedriver_path = \"C:/Users/njoro/Desktop/chromedriver-win64/chromedriver.exe\"\n",
    "\n",
    "#Create a service object with the path to the Chrome Driver\n",
    "service = Service(executable_path = chromedriver_path)\n",
    "\n",
    "# Function to create the WebDriver\n",
    "def create_webdriver():\n",
    "    return webdriver.Chrome(service = service, options = driver_option)\n",
    "\n",
    "# Open the website\n",
    "browser = create_webdriver()\n",
    "browser.get(\"https://weworkremotely.com/categories/remote-full-stack-programming-jobs#job-listings\")\n",
    "\n",
    "\n",
    "\n",
    "# Wait for elements to load\n",
    "try:\n",
    "    WebDriverWait(browser, 10).until(\n",
    "        EC.presence_of_all_elements_located((By.XPATH, \"//li[@class='feature']\"))\n",
    "    )\n",
    "except TimeoutException:\n",
    "    print(\"Timed out waiting for page to load\")\n",
    "    browser.quit()\n",
    "\n",
    "# Extract all jobs\n",
    "projects = browser.find_elements(By.XPATH, \"//li[@class='feature']\")\n",
    "# Extract all jobs\n",
    "projects_list = []\n",
    "for project in projects:\n",
    "    title = project.find_element(By.XPATH, \".//span[@class='title']\").text\n",
    "    link = project.find_element(By.XPATH, \".//a[contains(@href, '/remote-jobs')]\").get_attribute(\"href\")\n",
    "    projects_list.append({'Job': title, 'Link': link})\n",
    "\n",
    "    \n",
    "# Close connection\n",
    "browser.quit()\n",
    "\n",
    "# Save the data using pandas\n",
    "project_df = pd.DataFrame(projects_list)\n",
    "\n",
    "print(project_df)"
   ]
  },
  {
   "cell_type": "code",
   "execution_count": 15,
   "id": "e09d13ba",
   "metadata": {},
   "outputs": [],
   "source": [
    "project_df.to_csv(\"Jobs.csv\", index=False)"
   ]
  }
 ],
 "metadata": {
  "kernelspec": {
   "display_name": "Python 3 (ipykernel)",
   "language": "python",
   "name": "python3"
  },
  "language_info": {
   "codemirror_mode": {
    "name": "ipython",
    "version": 3
   },
   "file_extension": ".py",
   "mimetype": "text/x-python",
   "name": "python",
   "nbconvert_exporter": "python",
   "pygments_lexer": "ipython3",
   "version": "3.9.12"
  }
 },
 "nbformat": 4,
 "nbformat_minor": 5
}
